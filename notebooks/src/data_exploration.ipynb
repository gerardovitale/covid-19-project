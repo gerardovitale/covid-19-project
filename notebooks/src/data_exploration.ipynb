{
 "cells": [
  {
   "cell_type": "code",
   "execution_count": 1,
   "id": "6d1fcb46",
   "metadata": {},
   "outputs": [],
   "source": [
    "import os\n",
    "import datetime\n",
    "import pandas as pd\n",
    "import matplotlib.pyplot as plt\n",
    "import seaborn as sns\n",
    "\n",
    "plt.style.use('seaborn')\n",
    "COLORS = sns.color_palette(palette='colorblind')"
   ]
  },
  {
   "cell_type": "code",
   "execution_count": 2,
   "id": "947dfb55",
   "metadata": {},
   "outputs": [
    {
     "data": {
      "text/html": [
       "<div>\n",
       "<style scoped>\n",
       "    .dataframe tbody tr th:only-of-type {\n",
       "        vertical-align: middle;\n",
       "    }\n",
       "\n",
       "    .dataframe tbody tr th {\n",
       "        vertical-align: top;\n",
       "    }\n",
       "\n",
       "    .dataframe thead th {\n",
       "        text-align: right;\n",
       "    }\n",
       "</style>\n",
       "<table border=\"1\" class=\"dataframe\">\n",
       "  <thead>\n",
       "    <tr style=\"text-align: right;\">\n",
       "      <th></th>\n",
       "      <th>Unnamed: 0</th>\n",
       "      <th>iso_code</th>\n",
       "      <th>continent</th>\n",
       "      <th>location</th>\n",
       "      <th>date</th>\n",
       "      <th>total_cases</th>\n",
       "      <th>new_cases</th>\n",
       "      <th>new_cases_smoothed</th>\n",
       "      <th>total_deaths</th>\n",
       "      <th>new_deaths</th>\n",
       "      <th>...</th>\n",
       "      <th>female_smokers</th>\n",
       "      <th>male_smokers</th>\n",
       "      <th>handwashing_facilities</th>\n",
       "      <th>hospital_beds_per_thousand</th>\n",
       "      <th>life_expectancy</th>\n",
       "      <th>human_development_index</th>\n",
       "      <th>excess_mortality_cumulative_absolute</th>\n",
       "      <th>excess_mortality_cumulative</th>\n",
       "      <th>excess_mortality</th>\n",
       "      <th>excess_mortality_cumulative_per_million</th>\n",
       "    </tr>\n",
       "  </thead>\n",
       "  <tbody>\n",
       "    <tr>\n",
       "      <th>92073</th>\n",
       "      <td>97199</td>\n",
       "      <td>LBR</td>\n",
       "      <td>Africa</td>\n",
       "      <td>Liberia</td>\n",
       "      <td>2021-01-18</td>\n",
       "      <td>1887.0</td>\n",
       "      <td>0.0</td>\n",
       "      <td>12.429</td>\n",
       "      <td>84.0</td>\n",
       "      <td>0.0</td>\n",
       "      <td>...</td>\n",
       "      <td>1.5</td>\n",
       "      <td>18.1</td>\n",
       "      <td>1.188</td>\n",
       "      <td>0.8</td>\n",
       "      <td>64.10</td>\n",
       "      <td>0.480</td>\n",
       "      <td>NaN</td>\n",
       "      <td>NaN</td>\n",
       "      <td>NaN</td>\n",
       "      <td>NaN</td>\n",
       "    </tr>\n",
       "    <tr>\n",
       "      <th>145887</th>\n",
       "      <td>154422</td>\n",
       "      <td>SXM</td>\n",
       "      <td>North America</td>\n",
       "      <td>Sint Maarten (Dutch part)</td>\n",
       "      <td>2021-08-24</td>\n",
       "      <td>NaN</td>\n",
       "      <td>NaN</td>\n",
       "      <td>NaN</td>\n",
       "      <td>NaN</td>\n",
       "      <td>NaN</td>\n",
       "      <td>...</td>\n",
       "      <td>NaN</td>\n",
       "      <td>NaN</td>\n",
       "      <td>NaN</td>\n",
       "      <td>NaN</td>\n",
       "      <td>78.95</td>\n",
       "      <td>NaN</td>\n",
       "      <td>NaN</td>\n",
       "      <td>NaN</td>\n",
       "      <td>NaN</td>\n",
       "      <td>NaN</td>\n",
       "    </tr>\n",
       "    <tr>\n",
       "      <th>117472</th>\n",
       "      <td>124288</td>\n",
       "      <td>NER</td>\n",
       "      <td>Africa</td>\n",
       "      <td>Niger</td>\n",
       "      <td>2021-02-02</td>\n",
       "      <td>4548.0</td>\n",
       "      <td>11.0</td>\n",
       "      <td>20.143</td>\n",
       "      <td>162.0</td>\n",
       "      <td>1.0</td>\n",
       "      <td>...</td>\n",
       "      <td>0.1</td>\n",
       "      <td>15.4</td>\n",
       "      <td>8.978</td>\n",
       "      <td>0.3</td>\n",
       "      <td>62.42</td>\n",
       "      <td>0.394</td>\n",
       "      <td>NaN</td>\n",
       "      <td>NaN</td>\n",
       "      <td>NaN</td>\n",
       "      <td>NaN</td>\n",
       "    </tr>\n",
       "    <tr>\n",
       "      <th>46888</th>\n",
       "      <td>48588</td>\n",
       "      <td>DOM</td>\n",
       "      <td>North America</td>\n",
       "      <td>Dominican Republic</td>\n",
       "      <td>2022-02-13</td>\n",
       "      <td>569446.0</td>\n",
       "      <td>422.0</td>\n",
       "      <td>976.143</td>\n",
       "      <td>4347.0</td>\n",
       "      <td>4.0</td>\n",
       "      <td>...</td>\n",
       "      <td>8.5</td>\n",
       "      <td>19.1</td>\n",
       "      <td>55.182</td>\n",
       "      <td>1.6</td>\n",
       "      <td>74.08</td>\n",
       "      <td>0.756</td>\n",
       "      <td>NaN</td>\n",
       "      <td>NaN</td>\n",
       "      <td>NaN</td>\n",
       "      <td>NaN</td>\n",
       "    </tr>\n",
       "    <tr>\n",
       "      <th>3138</th>\n",
       "      <td>3977</td>\n",
       "      <td>AND</td>\n",
       "      <td>Europe</td>\n",
       "      <td>Andorra</td>\n",
       "      <td>2021-12-18</td>\n",
       "      <td>20549.0</td>\n",
       "      <td>0.0</td>\n",
       "      <td>158.429</td>\n",
       "      <td>134.0</td>\n",
       "      <td>0.0</td>\n",
       "      <td>...</td>\n",
       "      <td>29.0</td>\n",
       "      <td>37.8</td>\n",
       "      <td>NaN</td>\n",
       "      <td>NaN</td>\n",
       "      <td>83.73</td>\n",
       "      <td>0.868</td>\n",
       "      <td>NaN</td>\n",
       "      <td>NaN</td>\n",
       "      <td>NaN</td>\n",
       "      <td>NaN</td>\n",
       "    </tr>\n",
       "  </tbody>\n",
       "</table>\n",
       "<p>5 rows × 68 columns</p>\n",
       "</div>"
      ],
      "text/plain": [
       "        Unnamed: 0 iso_code      continent                   location  \\\n",
       "92073        97199      LBR         Africa                    Liberia   \n",
       "145887      154422      SXM  North America  Sint Maarten (Dutch part)   \n",
       "117472      124288      NER         Africa                      Niger   \n",
       "46888        48588      DOM  North America         Dominican Republic   \n",
       "3138          3977      AND         Europe                    Andorra   \n",
       "\n",
       "              date  total_cases  new_cases  new_cases_smoothed  total_deaths  \\\n",
       "92073   2021-01-18       1887.0        0.0              12.429          84.0   \n",
       "145887  2021-08-24          NaN        NaN                 NaN           NaN   \n",
       "117472  2021-02-02       4548.0       11.0              20.143         162.0   \n",
       "46888   2022-02-13     569446.0      422.0             976.143        4347.0   \n",
       "3138    2021-12-18      20549.0        0.0             158.429         134.0   \n",
       "\n",
       "        new_deaths  ...  female_smokers  male_smokers  handwashing_facilities  \\\n",
       "92073          0.0  ...             1.5          18.1                   1.188   \n",
       "145887         NaN  ...             NaN           NaN                     NaN   \n",
       "117472         1.0  ...             0.1          15.4                   8.978   \n",
       "46888          4.0  ...             8.5          19.1                  55.182   \n",
       "3138           0.0  ...            29.0          37.8                     NaN   \n",
       "\n",
       "        hospital_beds_per_thousand  life_expectancy  human_development_index  \\\n",
       "92073                          0.8            64.10                    0.480   \n",
       "145887                         NaN            78.95                      NaN   \n",
       "117472                         0.3            62.42                    0.394   \n",
       "46888                          1.6            74.08                    0.756   \n",
       "3138                           NaN            83.73                    0.868   \n",
       "\n",
       "        excess_mortality_cumulative_absolute  excess_mortality_cumulative  \\\n",
       "92073                                    NaN                          NaN   \n",
       "145887                                   NaN                          NaN   \n",
       "117472                                   NaN                          NaN   \n",
       "46888                                    NaN                          NaN   \n",
       "3138                                     NaN                          NaN   \n",
       "\n",
       "        excess_mortality  excess_mortality_cumulative_per_million  \n",
       "92073                NaN                                      NaN  \n",
       "145887               NaN                                      NaN  \n",
       "117472               NaN                                      NaN  \n",
       "46888                NaN                                      NaN  \n",
       "3138                 NaN                                      NaN  \n",
       "\n",
       "[5 rows x 68 columns]"
      ]
     },
     "execution_count": 2,
     "metadata": {},
     "output_type": "execute_result"
    }
   ],
   "source": [
    "# df = pd.read_csv(os.getenv(\"DATA_URL\"))\n",
    "df = pd.read_csv('/app/data/2022-06-01-covid-data.csv')\n",
    "df.sample(5)"
   ]
  },
  {
   "cell_type": "code",
   "execution_count": 3,
   "id": "640348cf",
   "metadata": {},
   "outputs": [],
   "source": [
    "# file_name = '../data/{0}-covid-data.csv'.format(\n",
    "#     datetime.datetime.now().strftime('%Y-%m-%d'))\n",
    "# df.to_csv(file_name)"
   ]
  },
  {
   "cell_type": "code",
   "execution_count": 4,
   "id": "e6ae19a7",
   "metadata": {},
   "outputs": [],
   "source": [
    "# commons transformations\n",
    "df.dropna(subset=['continent'], inplace=True)\n",
    "df['date'] = df['date'].apply(lambda date: datetime.datetime.strptime(date, '%Y-%m-%d'))"
   ]
  },
  {
   "cell_type": "code",
   "execution_count": 5,
   "id": "a5df6f5c",
   "metadata": {},
   "outputs": [
    {
     "data": {
      "text/plain": [
       "(179568, 68)"
      ]
     },
     "execution_count": 5,
     "metadata": {},
     "output_type": "execute_result"
    }
   ],
   "source": [
    "df.shape"
   ]
  },
  {
   "cell_type": "markdown",
   "id": "e70ff150",
   "metadata": {},
   "source": [
    "## Overall Situation for New Cases of Covid-19\n",
    "Multi-set bar plot, Group by year and month\n",
    "- X: months\n",
    "- Y: number of cases"
   ]
  },
  {
   "cell_type": "code",
   "execution_count": 6,
   "id": "06303c7d",
   "metadata": {},
   "outputs": [
    {
     "data": {
      "text/plain": [
       "Index(['Unnamed: 0', 'iso_code', 'continent', 'location', 'date',\n",
       "       'total_cases', 'new_cases', 'new_cases_smoothed', 'total_deaths',\n",
       "       'new_deaths', 'new_deaths_smoothed', 'total_cases_per_million',\n",
       "       'new_cases_per_million', 'new_cases_smoothed_per_million',\n",
       "       'total_deaths_per_million', 'new_deaths_per_million',\n",
       "       'new_deaths_smoothed_per_million', 'reproduction_rate', 'icu_patients',\n",
       "       'icu_patients_per_million', 'hosp_patients',\n",
       "       'hosp_patients_per_million', 'weekly_icu_admissions',\n",
       "       'weekly_icu_admissions_per_million', 'weekly_hosp_admissions',\n",
       "       'weekly_hosp_admissions_per_million', 'total_tests', 'new_tests',\n",
       "       'total_tests_per_thousand', 'new_tests_per_thousand',\n",
       "       'new_tests_smoothed', 'new_tests_smoothed_per_thousand',\n",
       "       'positive_rate', 'tests_per_case', 'tests_units', 'total_vaccinations',\n",
       "       'people_vaccinated', 'people_fully_vaccinated', 'total_boosters',\n",
       "       'new_vaccinations', 'new_vaccinations_smoothed',\n",
       "       'total_vaccinations_per_hundred', 'people_vaccinated_per_hundred',\n",
       "       'people_fully_vaccinated_per_hundred', 'total_boosters_per_hundred',\n",
       "       'new_vaccinations_smoothed_per_million',\n",
       "       'new_people_vaccinated_smoothed',\n",
       "       'new_people_vaccinated_smoothed_per_hundred', 'stringency_index',\n",
       "       'population', 'population_density', 'median_age', 'aged_65_older',\n",
       "       'aged_70_older', 'gdp_per_capita', 'extreme_poverty',\n",
       "       'cardiovasc_death_rate', 'diabetes_prevalence', 'female_smokers',\n",
       "       'male_smokers', 'handwashing_facilities', 'hospital_beds_per_thousand',\n",
       "       'life_expectancy', 'human_development_index',\n",
       "       'excess_mortality_cumulative_absolute', 'excess_mortality_cumulative',\n",
       "       'excess_mortality', 'excess_mortality_cumulative_per_million'],\n",
       "      dtype='object')"
      ]
     },
     "execution_count": 6,
     "metadata": {},
     "output_type": "execute_result"
    }
   ],
   "source": [
    "df.columns"
   ]
  },
  {
   "cell_type": "code",
   "execution_count": 7,
   "id": "14260aff",
   "metadata": {},
   "outputs": [
    {
     "data": {
      "text/html": [
       "<div>\n",
       "<style scoped>\n",
       "    .dataframe tbody tr th:only-of-type {\n",
       "        vertical-align: middle;\n",
       "    }\n",
       "\n",
       "    .dataframe tbody tr th {\n",
       "        vertical-align: top;\n",
       "    }\n",
       "\n",
       "    .dataframe thead th {\n",
       "        text-align: right;\n",
       "    }\n",
       "</style>\n",
       "<table border=\"1\" class=\"dataframe\">\n",
       "  <thead>\n",
       "    <tr style=\"text-align: right;\">\n",
       "      <th></th>\n",
       "      <th></th>\n",
       "      <th></th>\n",
       "      <th>total_cases</th>\n",
       "      <th>new_cases</th>\n",
       "    </tr>\n",
       "    <tr>\n",
       "      <th>year</th>\n",
       "      <th>month</th>\n",
       "      <th>location</th>\n",
       "      <th></th>\n",
       "      <th></th>\n",
       "    </tr>\n",
       "  </thead>\n",
       "  <tbody>\n",
       "    <tr>\n",
       "      <th rowspan=\"10\" valign=\"top\">2020</th>\n",
       "      <th rowspan=\"10\" valign=\"top\">1</th>\n",
       "      <th>Argentina</th>\n",
       "      <td>0.0</td>\n",
       "      <td>0.0</td>\n",
       "    </tr>\n",
       "    <tr>\n",
       "      <th>Australia</th>\n",
       "      <td>38.0</td>\n",
       "      <td>9.0</td>\n",
       "    </tr>\n",
       "    <tr>\n",
       "      <th>Cambodia</th>\n",
       "      <td>5.0</td>\n",
       "      <td>1.0</td>\n",
       "    </tr>\n",
       "    <tr>\n",
       "      <th>Canada</th>\n",
       "      <td>30.0</td>\n",
       "      <td>4.0</td>\n",
       "    </tr>\n",
       "    <tr>\n",
       "      <th>China</th>\n",
       "      <td>37897.0</td>\n",
       "      <td>9236.0</td>\n",
       "    </tr>\n",
       "    <tr>\n",
       "      <th>Estonia</th>\n",
       "      <td>0.0</td>\n",
       "      <td>0.0</td>\n",
       "    </tr>\n",
       "    <tr>\n",
       "      <th>Fiji</th>\n",
       "      <td>0.0</td>\n",
       "      <td>0.0</td>\n",
       "    </tr>\n",
       "    <tr>\n",
       "      <th>Finland</th>\n",
       "      <td>3.0</td>\n",
       "      <td>1.0</td>\n",
       "    </tr>\n",
       "    <tr>\n",
       "      <th>France</th>\n",
       "      <td>30.0</td>\n",
       "      <td>5.0</td>\n",
       "    </tr>\n",
       "    <tr>\n",
       "      <th>Germany</th>\n",
       "      <td>18.0</td>\n",
       "      <td>5.0</td>\n",
       "    </tr>\n",
       "  </tbody>\n",
       "</table>\n",
       "</div>"
      ],
      "text/plain": [
       "                      total_cases  new_cases\n",
       "year month location                         \n",
       "2020 1     Argentina          0.0        0.0\n",
       "           Australia         38.0        9.0\n",
       "           Cambodia           5.0        1.0\n",
       "           Canada            30.0        4.0\n",
       "           China          37897.0     9236.0\n",
       "           Estonia            0.0        0.0\n",
       "           Fiji               0.0        0.0\n",
       "           Finland            3.0        1.0\n",
       "           France            30.0        5.0\n",
       "           Germany           18.0        5.0"
      ]
     },
     "execution_count": 7,
     "metadata": {},
     "output_type": "execute_result"
    }
   ],
   "source": [
    "columns_to_include = ['date', 'location', 'continent', 'total_cases', 'new_cases']\n",
    "new_cases = df[columns_to_include].copy()\n",
    "\n",
    "new_cases.set_index('date', inplace=True)\n",
    "new_cases['month'] = new_cases.index.month\n",
    "new_cases['year'] = new_cases.index.year\n",
    "\n",
    "new_cases_per_month_n_country = new_cases.groupby(by=['year', 'month', 'location']).sum()\n",
    "new_cases_per_month_n_country.head(10)"
   ]
  },
  {
   "cell_type": "code",
   "execution_count": 8,
   "id": "5451b563",
   "metadata": {},
   "outputs": [
    {
     "data": {
      "text/html": [
       "<div>\n",
       "<style scoped>\n",
       "    .dataframe tbody tr th:only-of-type {\n",
       "        vertical-align: middle;\n",
       "    }\n",
       "\n",
       "    .dataframe tbody tr th {\n",
       "        vertical-align: top;\n",
       "    }\n",
       "\n",
       "    .dataframe thead th {\n",
       "        text-align: right;\n",
       "    }\n",
       "</style>\n",
       "<table border=\"1\" class=\"dataframe\">\n",
       "  <thead>\n",
       "    <tr style=\"text-align: right;\">\n",
       "      <th></th>\n",
       "      <th>year</th>\n",
       "      <th>month</th>\n",
       "      <th>location</th>\n",
       "      <th>total_cases</th>\n",
       "      <th>new_cases</th>\n",
       "    </tr>\n",
       "  </thead>\n",
       "  <tbody>\n",
       "    <tr>\n",
       "      <th>0</th>\n",
       "      <td>2020</td>\n",
       "      <td>1</td>\n",
       "      <td>Italy</td>\n",
       "      <td>2.0</td>\n",
       "      <td>2.0</td>\n",
       "    </tr>\n",
       "    <tr>\n",
       "      <th>1</th>\n",
       "      <td>2020</td>\n",
       "      <td>2</td>\n",
       "      <td>Italy</td>\n",
       "      <td>3966.0</td>\n",
       "      <td>1126.0</td>\n",
       "    </tr>\n",
       "    <tr>\n",
       "      <th>2</th>\n",
       "      <td>2020</td>\n",
       "      <td>3</td>\n",
       "      <td>Italy</td>\n",
       "      <td>1209772.0</td>\n",
       "      <td>104664.0</td>\n",
       "    </tr>\n",
       "    <tr>\n",
       "      <th>3</th>\n",
       "      <td>2020</td>\n",
       "      <td>4</td>\n",
       "      <td>Italy</td>\n",
       "      <td>4928524.0</td>\n",
       "      <td>99671.0</td>\n",
       "    </tr>\n",
       "    <tr>\n",
       "      <th>4</th>\n",
       "      <td>2020</td>\n",
       "      <td>5</td>\n",
       "      <td>Italy</td>\n",
       "      <td>6914863.0</td>\n",
       "      <td>27534.0</td>\n",
       "    </tr>\n",
       "  </tbody>\n",
       "</table>\n",
       "</div>"
      ],
      "text/plain": [
       "   year  month location  total_cases  new_cases\n",
       "0  2020      1    Italy          2.0        2.0\n",
       "1  2020      2    Italy       3966.0     1126.0\n",
       "2  2020      3    Italy    1209772.0   104664.0\n",
       "3  2020      4    Italy    4928524.0    99671.0\n",
       "4  2020      5    Italy    6914863.0    27534.0"
      ]
     },
     "execution_count": 8,
     "metadata": {},
     "output_type": "execute_result"
    }
   ],
   "source": [
    "# plot data for location = Italy\n",
    "mask = new_cases_per_month_n_country.index.get_level_values(2) == 'Italy'\n",
    "italy_new_cases = new_cases_per_month_n_country[mask]\n",
    "italy_new_cases.reset_index(inplace=True)\n",
    "italy_new_cases.head()"
   ]
  },
  {
   "cell_type": "code",
   "execution_count": 9,
   "id": "2b905f79",
   "metadata": {},
   "outputs": [
    {
     "data": {
      "image/png": "[encoded data removed]",
      "text/plain": [
       "<Figure size 720x432 with 2 Axes>"
      ]
     },
     "metadata": {
      "needs_background": "light"
     },
     "output_type": "display_data"
    }
   ],
   "source": [
    "_ = plt.figure(figsize=[10,6])\n",
    "plt.suptitle('Overall Situation for Cases of Covid-19 in Italy', fontsize=14)\n",
    "\n",
    "plt.subplot(1,2,1)\n",
    "sns.barplot(data=italy_new_cases, x='month', y='new_cases', \n",
    "            hue='year', palette=COLORS, ci=None)\n",
    "plt.title('New Cases', fontsize=12)\n",
    "plt.legend(loc='upper right')\n",
    "\n",
    "plt.subplot(1,2,2)\n",
    "sns.barplot(data=italy_new_cases, x='month', y='total_cases',\n",
    "            hue='year', palette=COLORS, ci=None)\n",
    "plt.title('Total Cases', fontsize=12)\n",
    "plt.legend(loc='upper right')\n",
    "\n",
    "plt.tight_layout()"
   ]
  },
  {
   "cell_type": "code",
   "execution_count": 10,
   "id": "72139f74",
   "metadata": {},
   "outputs": [
    {
     "data": {
      "image/png": "[encoded data removed]",
      "text/plain": [
       "<Figure size 720x432 with 3 Axes>"
      ]
     },
     "metadata": {
      "needs_background": "light"
     },
     "output_type": "display_data"
    }
   ],
   "source": [
    "_ = plt.figure(figsize=[10,6])\n",
    "plt.suptitle('New Cases of Covid-19 in Italy per year', fontsize=14)\n",
    "\n",
    "ax1 = plt.subplot(1,3,1)\n",
    "sns.barplot(data=italy_new_cases[italy_new_cases['year'] == 2020], \n",
    "            x='month', y='new_cases', \n",
    "            color=COLORS[0], ci=None)\n",
    "plt.title('New Cases in 2020', fontsize=12)\n",
    "\n",
    "ax2 = plt.subplot(1,3,2, sharey=ax1)\n",
    "sns.barplot(data=italy_new_cases[italy_new_cases['year'] == 2021], \n",
    "            x='month', y='new_cases', \n",
    "            color=COLORS[1], ci=None)\n",
    "plt.title('New Cases in 2021', fontsize=12)\n",
    "ax2.set(ylabel=None)\n",
    "\n",
    "ax3 = plt.subplot(1,3,3, sharey=ax1)\n",
    "sns.barplot(data=italy_new_cases[italy_new_cases['year'] == 2022], \n",
    "            x='month', y='new_cases', \n",
    "            color=COLORS[2], ci=None)\n",
    "plt.title('New Cases in 2022', fontsize=12)\n",
    "plt.xticks(ticks=range(0,12), labels=range(1,13))\n",
    "ax3.set(ylabel=None)\n",
    "\n",
    "plt.tight_layout()"
   ]
  },
  {
   "cell_type": "code",
   "execution_count": 11,
   "id": "488516f9",
   "metadata": {},
   "outputs": [
    {
     "data": {
      "text/plain": [
       "12058"
      ]
     },
     "execution_count": 11,
     "metadata": {},
     "output_type": "execute_result"
    }
   ],
   "source": [
    "new_cases_per_month_n_country.reset_index(inplace=True)\n",
    "new_cases_per_month_n_country.to_dict('records').__len__() *2"
   ]
  },
  {
   "cell_type": "code",
   "execution_count": 12,
   "id": "d8a472a0",
   "metadata": {},
   "outputs": [
    {
     "data": {
      "text/plain": [
       "{'year': 2020,\n",
       " 'month': 2,\n",
       " 'location': 'Italy',\n",
       " 'total_cases': 3.0,\n",
       " 'new_cases': 0.0}"
      ]
     },
     "execution_count": 12,
     "metadata": {},
     "output_type": "execute_result"
    }
   ],
   "source": [
    "# test data\n",
    "test = pd.read_csv('/app/data/test-data.csv')\n",
    "\n",
    "test.dropna(subset=['continent'], inplace=True)\n",
    "test['date'] = test['date'].apply(lambda date: datetime.datetime.strptime(date, '%Y-%m-%d'))\n",
    "\n",
    "columns_to_include = ['date', 'location', 'continent', 'total_cases', 'new_cases']\n",
    "aux = test[columns_to_include].copy()\n",
    "\n",
    "aux.set_index('date', inplace=True)\n",
    "aux['month'] = aux.index.month\n",
    "aux['year'] = aux.index.year\n",
    "\n",
    "test_result = aux.groupby(by=['year', 'month', 'location']).sum()\n",
    "test_result.reset_index(inplace=True)\n",
    "test_result.to_dict('records')[0]"
   ]
  },
  {
   "cell_type": "code",
   "execution_count": 14,
   "id": "ef9ad442",
   "metadata": {},
   "outputs": [
    {
     "data": {
      "text/plain": [
       "{'year': 2020,\n",
       " 'month': 2,\n",
       " 'location': 'Italy',\n",
       " 'total_cases': 3.0,\n",
       " 'new_cases': 0.0}"
      ]
     },
     "execution_count": 14,
     "metadata": {},
     "output_type": "execute_result"
    }
   ],
   "source": [
    "# functions to be tested\n",
    "def get_new_cases_per_month_n_location(data: pd.DataFrame):\n",
    "    data.dropna(subset=['continent'], inplace=True)\n",
    "    data['date'] = data['date'].apply(lambda date: datetime.datetime.strptime(date, '%Y-%m-%d'))\n",
    "    columns_to_include = ['date', 'location', 'continent', 'total_cases', 'new_cases']\n",
    "    new_cases = data[columns_to_include].copy()\n",
    "    new_cases.set_index('date', inplace=True)\n",
    "    new_cases['month'] = new_cases.index.month\n",
    "    new_cases['year'] = new_cases.index.year\n",
    "    new_cases_per_month_n_country = new_cases.groupby(by=['year', 'month', 'location']).sum()\n",
    "    new_cases_per_month_n_country.reset_index(inplace=True)\n",
    "    return new_cases_per_month_n_country.to_dict('records')\n",
    "\n",
    "\n",
    "get_new_cases_per_month_n_location(\n",
    "    pd.read_csv('/app/data/test-data.csv'))[0]"
   ]
  },
  {
   "cell_type": "code",
   "execution_count": null,
   "id": "b381aeee",
   "metadata": {},
   "outputs": [],
   "source": []
  }
 ],
 "metadata": {
  "kernelspec": {
   "display_name": "Python 3 (ipykernel)",
   "language": "python",
   "name": "python3"
  },
  "language_info": {
   "codemirror_mode": {
    "name": "ipython",
    "version": 3
   },
   "file_extension": ".py",
   "mimetype": "text/x-python",
   "name": "python",
   "nbconvert_exporter": "python",
   "pygments_lexer": "ipython3",
   "version": "3.9.5"
  }
 },
 "nbformat": 4,
 "nbformat_minor": 5
}
